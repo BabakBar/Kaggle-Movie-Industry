{
 "cells": [
  {
   "cell_type": "markdown",
   "metadata": {},
   "source": [
    "# Product\n",
    "## data management, stats, analytics\n",
    "### hypothesis testing, regression theory, central limit theorem, bayes theorem, conditional and joint probabilities and basic distributions (exponential, geometric, binomial). estimators (consistency, bias, efficiency)\n",
    "\n",
    "### 1- Company wants to update homepage to increas CTR (click through rate). Perfomed 50 hypothesis tests of 50 new features and set max type I erroe rate to 5%. Found there are 4 features with P-value < 0.05. However found immediate decrese in CTR when new features were applied. What might be most likely reason for the decrease?\n",
    "\n",
    "Answer: While shipping a feature to users, it is imperative to validate assumptions about design and features in order to understand their impact in the real world.\n",
    "types: A/B Testing - Multivariate Testing - Before/After Testing - Time-based On/Off Testing\n",
    "After the right test is chosen and designed, and the success criteria and metrics are identified, the results must be analyzed. \n",
    "Null hypothesis: The null hypothesis is typically denoted as . The null hypothesis states the \"status quo\". This hypothesis is assumed to be true until there is evidence to suggest otherwise.\n",
    "Alternative hypothesis: The alternative hypothesis is typically denoted as  or . This is the statement that one wants to conclude. It is also called the research hypothesis.\n",
    "This uncertainty can be of 2 types: Type I error (falsely rejecting a null hypothesis) and type II error (falsely accepting a null hypothesis).\n",
    "stats in here: \n",
    "1- Sampling (not have a bias): In order to ensure no bias in sampling, one can observe the mean and variance for the success metric before the change is introduced.\n",
    "2- Significance and P-Value: In statistics, the p-value depicts the probability that, assuming the null hypothesis is correct, you might still observe results that are at least as extreme as the results of your hypothesis test. The smaller the p-value, the more likely the alternative hypothesis is correct, and the greater the significance of your results.\n",
    "#### Testing multiple hypotheses increases the risk of drawing a false-positive conclusion or the Type I error rate (a Type I error is another name for incorrectly rejecting the null hypothesis).\n",
    "What is the Multiple Testing Problem?\n",
    "If you run a hypothesis test, there’s a small chance (usually about 5%) that you’ll get a bogus significant result. but if 20 different researchers evaluate 20 different aspects of a policy intervention, even if the intervention did nothing, we should expect one statistically significant result and 19 statistically insignificant results. When you run multiple tests, the p-values have to be adjusted for how many hypothesis tests you are running. "
   ]
  },
  {
   "cell_type": "markdown",
   "metadata": {},
   "source": [
    "#### What is composite key and example?\n",
    "A primary key having two or more attributes is called composite key. It is a combination of two or more columns. An example can be − Here our composite key is OrderID and ProductID − {OrderID, ProductID}\n",
    "#### A “One to one” relationship between two tables means that a row in one table can only relate to one row in the table on the other side of their relationship and vice versa. For example, there might be a one-to-one relationship between employees and the cars they drive."
   ]
  },
  {
   "cell_type": "markdown",
   "metadata": {},
   "source": [
    "# Travel agency case\n",
    "Users can request to book a package creating a \"lead\". Then suppliers confirm or not their pricing and availability and users have have 48 hours to pay. Acency earns a percentage of every package sold. \n"
   ]
  },
  {
   "cell_type": "code",
   "execution_count": 42,
   "metadata": {},
   "outputs": [],
   "source": [
    "import pandas as pd\n",
    "import numpy as np\n",
    "leads = pd.read_csv(\"Leads_list.csv\")\n",
    "suppliers = pd.read_csv(\"Suppliers_fee_list.csv\")"
   ]
  },
  {
   "cell_type": "code",
   "execution_count": 9,
   "metadata": {},
   "outputs": [
    {
     "data": {
      "text/html": [
       "<div>\n",
       "<style scoped>\n",
       "    .dataframe tbody tr th:only-of-type {\n",
       "        vertical-align: middle;\n",
       "    }\n",
       "\n",
       "    .dataframe tbody tr th {\n",
       "        vertical-align: top;\n",
       "    }\n",
       "\n",
       "    .dataframe thead th {\n",
       "        text-align: right;\n",
       "    }\n",
       "</style>\n",
       "<table border=\"1\" class=\"dataframe\">\n",
       "  <thead>\n",
       "    <tr style=\"text-align: right;\">\n",
       "      <th></th>\n",
       "      <th>id</th>\n",
       "      <th>first_name</th>\n",
       "      <th>received</th>\n",
       "      <th>administrator</th>\n",
       "      <th>guide_code</th>\n",
       "      <th>Country of Origin</th>\n",
       "      <th>Initial_guide_code</th>\n",
       "      <th>custom trip</th>\n",
       "      <th>trip_code</th>\n",
       "      <th>status</th>\n",
       "      <th>...</th>\n",
       "      <th>main_activity</th>\n",
       "      <th>skill_level</th>\n",
       "      <th>destination_country</th>\n",
       "      <th>people_count</th>\n",
       "      <th>cancellation_reason</th>\n",
       "      <th>source</th>\n",
       "      <th>base_price_local_currency</th>\n",
       "      <th>price_currency</th>\n",
       "      <th>exchange_rate</th>\n",
       "      <th>payment_method</th>\n",
       "    </tr>\n",
       "  </thead>\n",
       "  <tbody>\n",
       "    <tr>\n",
       "      <th>0</th>\n",
       "      <td>21402</td>\n",
       "      <td>Peter</td>\n",
       "      <td>24/12/2018</td>\n",
       "      <td>NaN</td>\n",
       "      <td>97</td>\n",
       "      <td>Australia</td>\n",
       "      <td>360</td>\n",
       "      <td>NaN</td>\n",
       "      <td>127.0</td>\n",
       "      <td>1_cancelled</td>\n",
       "      <td>...</td>\n",
       "      <td>Mountaineering</td>\n",
       "      <td>intermediate</td>\n",
       "      <td>81.0</td>\n",
       "      <td>1</td>\n",
       "      <td>Changed plans</td>\n",
       "      <td>Organic</td>\n",
       "      <td>1950</td>\n",
       "      <td>EUR</td>\n",
       "      <td>1.000</td>\n",
       "      <td>NaN</td>\n",
       "    </tr>\n",
       "    <tr>\n",
       "      <th>1</th>\n",
       "      <td>21357</td>\n",
       "      <td>Lynne</td>\n",
       "      <td>22/12/2018</td>\n",
       "      <td>NaN</td>\n",
       "      <td>115</td>\n",
       "      <td>United Kingdom</td>\n",
       "      <td>115</td>\n",
       "      <td>NaN</td>\n",
       "      <td>558.0</td>\n",
       "      <td>1_cancelled</td>\n",
       "      <td>...</td>\n",
       "      <td>Heliskiing</td>\n",
       "      <td>advanced</td>\n",
       "      <td>74.0</td>\n",
       "      <td>1</td>\n",
       "      <td>Changed plans</td>\n",
       "      <td>Organic</td>\n",
       "      <td>1140</td>\n",
       "      <td>EUR</td>\n",
       "      <td>1.000</td>\n",
       "      <td>NaN</td>\n",
       "    </tr>\n",
       "    <tr>\n",
       "      <th>2</th>\n",
       "      <td>21344</td>\n",
       "      <td>chris</td>\n",
       "      <td>22/12/2018</td>\n",
       "      <td>NaN</td>\n",
       "      <td>212</td>\n",
       "      <td>United States</td>\n",
       "      <td>24</td>\n",
       "      <td>Yes</td>\n",
       "      <td>NaN</td>\n",
       "      <td>1_cancelled</td>\n",
       "      <td>...</td>\n",
       "      <td>Hiking</td>\n",
       "      <td>intermediate</td>\n",
       "      <td>10.0</td>\n",
       "      <td>2</td>\n",
       "      <td>Changed plans / Out of season</td>\n",
       "      <td>Organic</td>\n",
       "      <td>2300</td>\n",
       "      <td>USD</td>\n",
       "      <td>0.879</td>\n",
       "      <td>NaN</td>\n",
       "    </tr>\n",
       "    <tr>\n",
       "      <th>3</th>\n",
       "      <td>21209</td>\n",
       "      <td>Yubo</td>\n",
       "      <td>18/12/2018</td>\n",
       "      <td>NaN</td>\n",
       "      <td>1</td>\n",
       "      <td>Mexico</td>\n",
       "      <td>1</td>\n",
       "      <td>NaN</td>\n",
       "      <td>56.0</td>\n",
       "      <td>1_cancelled</td>\n",
       "      <td>...</td>\n",
       "      <td>Mountaineering</td>\n",
       "      <td>intermediate</td>\n",
       "      <td>142.0</td>\n",
       "      <td>1</td>\n",
       "      <td>Changed plans</td>\n",
       "      <td>Referral</td>\n",
       "      <td>400</td>\n",
       "      <td>USD</td>\n",
       "      <td>0.879</td>\n",
       "      <td>NaN</td>\n",
       "    </tr>\n",
       "    <tr>\n",
       "      <th>4</th>\n",
       "      <td>21207</td>\n",
       "      <td>Jaime</td>\n",
       "      <td>18/12/2018</td>\n",
       "      <td>NaN</td>\n",
       "      <td>165</td>\n",
       "      <td>Spain</td>\n",
       "      <td>165</td>\n",
       "      <td>NaN</td>\n",
       "      <td>45.0</td>\n",
       "      <td>1_cancelled</td>\n",
       "      <td>...</td>\n",
       "      <td>Heliskiing</td>\n",
       "      <td>advanced</td>\n",
       "      <td>58.0</td>\n",
       "      <td>2</td>\n",
       "      <td>Changed plans</td>\n",
       "      <td>Paid</td>\n",
       "      <td>4380</td>\n",
       "      <td>EUR</td>\n",
       "      <td>1.000</td>\n",
       "      <td>NaN</td>\n",
       "    </tr>\n",
       "  </tbody>\n",
       "</table>\n",
       "<p>5 rows × 26 columns</p>\n",
       "</div>"
      ],
      "text/plain": [
       "      id first_name    received  administrator  guide_code Country of Origin  \\\n",
       "0  21402      Peter  24/12/2018            NaN          97         Australia   \n",
       "1  21357      Lynne  22/12/2018            NaN         115    United Kingdom   \n",
       "2  21344      chris  22/12/2018            NaN         212     United States   \n",
       "3  21209       Yubo  18/12/2018            NaN           1            Mexico   \n",
       "4  21207      Jaime  18/12/2018            NaN         165             Spain   \n",
       "\n",
       "   Initial_guide_code custom trip  trip_code       status  ...  \\\n",
       "0                 360         NaN      127.0  1_cancelled  ...   \n",
       "1                 115         NaN      558.0  1_cancelled  ...   \n",
       "2                  24         Yes        NaN  1_cancelled  ...   \n",
       "3                   1         NaN       56.0  1_cancelled  ...   \n",
       "4                 165         NaN       45.0  1_cancelled  ...   \n",
       "\n",
       "    main_activity   skill_level destination_country people_count  \\\n",
       "0  Mountaineering  intermediate                81.0            1   \n",
       "1      Heliskiing      advanced                74.0            1   \n",
       "2          Hiking  intermediate                10.0            2   \n",
       "3  Mountaineering  intermediate               142.0            1   \n",
       "4      Heliskiing      advanced                58.0            2   \n",
       "\n",
       "             cancellation_reason    source base_price_local_currency  \\\n",
       "0                  Changed plans   Organic                      1950   \n",
       "1                  Changed plans   Organic                      1140   \n",
       "2  Changed plans / Out of season   Organic                      2300   \n",
       "3                  Changed plans  Referral                       400   \n",
       "4                  Changed plans      Paid                      4380   \n",
       "\n",
       "  price_currency  exchange_rate payment_method  \n",
       "0            EUR          1.000            NaN  \n",
       "1            EUR          1.000            NaN  \n",
       "2            USD          0.879            NaN  \n",
       "3            USD          0.879            NaN  \n",
       "4            EUR          1.000            NaN  \n",
       "\n",
       "[5 rows x 26 columns]"
      ]
     },
     "execution_count": 9,
     "metadata": {},
     "output_type": "execute_result"
    }
   ],
   "source": [
    "leads.head()\n"
   ]
  },
  {
   "cell_type": "code",
   "execution_count": 10,
   "metadata": {},
   "outputs": [
    {
     "data": {
      "text/html": [
       "<div>\n",
       "<style scoped>\n",
       "    .dataframe tbody tr th:only-of-type {\n",
       "        vertical-align: middle;\n",
       "    }\n",
       "\n",
       "    .dataframe tbody tr th {\n",
       "        vertical-align: top;\n",
       "    }\n",
       "\n",
       "    .dataframe thead th {\n",
       "        text-align: right;\n",
       "    }\n",
       "</style>\n",
       "<table border=\"1\" class=\"dataframe\">\n",
       "  <thead>\n",
       "    <tr style=\"text-align: right;\">\n",
       "      <th></th>\n",
       "      <th>guide_code</th>\n",
       "      <th>month_received</th>\n",
       "      <th>guide_fee</th>\n",
       "    </tr>\n",
       "  </thead>\n",
       "  <tbody>\n",
       "    <tr>\n",
       "      <th>0</th>\n",
       "      <td>1</td>\n",
       "      <td>November-18</td>\n",
       "      <td>10</td>\n",
       "    </tr>\n",
       "    <tr>\n",
       "      <th>1</th>\n",
       "      <td>2</td>\n",
       "      <td>November-18</td>\n",
       "      <td>10</td>\n",
       "    </tr>\n",
       "    <tr>\n",
       "      <th>2</th>\n",
       "      <td>3</td>\n",
       "      <td>November-18</td>\n",
       "      <td>10</td>\n",
       "    </tr>\n",
       "    <tr>\n",
       "      <th>3</th>\n",
       "      <td>4</td>\n",
       "      <td>November-18</td>\n",
       "      <td>10</td>\n",
       "    </tr>\n",
       "    <tr>\n",
       "      <th>4</th>\n",
       "      <td>5</td>\n",
       "      <td>November-18</td>\n",
       "      <td>10</td>\n",
       "    </tr>\n",
       "  </tbody>\n",
       "</table>\n",
       "</div>"
      ],
      "text/plain": [
       "   guide_code month_received  guide_fee\n",
       "0           1    November-18         10\n",
       "1           2    November-18         10\n",
       "2           3    November-18         10\n",
       "3           4    November-18         10\n",
       "4           5    November-18         10"
      ]
     },
     "execution_count": 10,
     "metadata": {},
     "output_type": "execute_result"
    }
   ],
   "source": [
    "suppliers.head()"
   ]
  },
  {
   "cell_type": "code",
   "execution_count": 33,
   "metadata": {},
   "outputs": [
    {
     "name": "stdout",
     "output_type": "stream",
     "text": [
      "<class 'pandas.core.frame.DataFrame'>\n",
      "RangeIndex: 919 entries, 0 to 918\n",
      "Data columns (total 26 columns):\n",
      " #   Column                        Non-Null Count  Dtype  \n",
      "---  ------                        --------------  -----  \n",
      " 0   id                            919 non-null    int64  \n",
      " 1   first_name                    743 non-null    object \n",
      " 2   received                      919 non-null    object \n",
      " 3   administrator                 0 non-null      float64\n",
      " 4   guide_code                    919 non-null    int64  \n",
      " 5   Country of Origin             815 non-null    object \n",
      " 6   Initial_guide_code            919 non-null    int64  \n",
      " 7   custom trip                   190 non-null    object \n",
      " 8   trip_code                     756 non-null    float64\n",
      " 9   status                        919 non-null    object \n",
      " 10  departure_date                85 non-null     object \n",
      " 11  duration                      853 non-null    float64\n",
      " 12  guide_confirmed_date          919 non-null    object \n",
      " 13  guide_availability confirmed  919 non-null    object \n",
      " 14  availability                  689 non-null    object \n",
      " 15  guide_recommendation          919 non-null    object \n",
      " 16  main_activity                 894 non-null    object \n",
      " 17  skill_level                   610 non-null    object \n",
      " 18  destination_country           865 non-null    float64\n",
      " 19  people_count                  919 non-null    object \n",
      " 20  cancellation_reason           834 non-null    object \n",
      " 21  source                        919 non-null    object \n",
      " 22  base_price_local_currency     919 non-null    object \n",
      " 23  price_currency                919 non-null    object \n",
      " 24  exchange_rate                 919 non-null    float64\n",
      " 25  payment_method                85 non-null     object \n",
      "dtypes: float64(5), int64(3), object(18)\n",
      "memory usage: 186.8+ KB\n"
     ]
    }
   ],
   "source": [
    "leads.info()"
   ]
  },
  {
   "cell_type": "code",
   "execution_count": 34,
   "metadata": {},
   "outputs": [
    {
     "data": {
      "text/plain": [
       "Index(['id', 'first_name', 'received', 'administrator', 'guide_code',\n",
       "       'Country of Origin', 'Initial_guide_code', 'custom trip', 'trip_code',\n",
       "       'status', 'departure_date', 'duration', 'guide_confirmed_date',\n",
       "       'guide_availability confirmed', 'availability', 'guide_recommendation',\n",
       "       'main_activity', 'skill_level', 'destination_country', 'people_count',\n",
       "       'cancellation_reason', 'source', 'base_price_local_currency',\n",
       "       'price_currency', 'exchange_rate', 'payment_method'],\n",
       "      dtype='object')"
      ]
     },
     "execution_count": 34,
     "metadata": {},
     "output_type": "execute_result"
    }
   ],
   "source": [
    "leads.columns\n",
    "\n",
    "# movies_df.rename(columns={\n",
    "#         'Runtime (Minutes)': 'Runtime', \n",
    "#         'Revenue (Millions)': 'Revenue_millions'\n",
    "#     }, inplace=True)"
   ]
  },
  {
   "cell_type": "code",
   "execution_count": null,
   "metadata": {},
   "outputs": [],
   "source": [
    "# Conditional Selection\n"
   ]
  },
  {
   "cell_type": "markdown",
   "metadata": {},
   "source": [
    "Function Description\n",
    "mean() Compute mean of groups\n",
    "sum() Compute sum of group values\n",
    "size() Compute group sizes\n",
    "count() Compute count of group\n",
    "std() Standard deviation of groups\n",
    "var() Compute variance of groups\n",
    "sem() Standard error of the mean of groups\n",
    "describe() Generates descriptive statistics\n",
    "first() Compute first of group values\n",
    "last() Compute last of group values\n",
    "nth() Take nth value, or a subset if n is a list\n",
    "min() Compute min of group values\n",
    "max() Compute max of group values"
   ]
  },
  {
   "cell_type": "code",
   "execution_count": 52,
   "metadata": {},
   "outputs": [
    {
     "data": {
      "text/plain": [
       "0.000000    343\n",
       "3.535534      8\n",
       "7.071068      2\n",
       "Name: guide_fee, dtype: int64"
      ]
     },
     "execution_count": 52,
     "metadata": {},
     "output_type": "execute_result"
    }
   ],
   "source": [
    "# Q1: How many suppliers accepted an increase in their Dec commission compare to Nov 2018?\n",
    "\n",
    "changes = suppliers.groupby('guide_code').std()\n",
    "changes.guide_fee.value_counts()\n",
    "\n",
    "\n",
    "        "
   ]
  },
  {
   "cell_type": "code",
   "execution_count": 56,
   "metadata": {},
   "outputs": [
    {
     "data": {
      "text/plain": [
       "345"
      ]
     },
     "execution_count": 56,
     "metadata": {},
     "output_type": "execute_result"
    }
   ],
   "source": [
    "# Q2: How many sales are with an alternative guide or agency?\n",
    "# i think it wants difference between guide_code and Inital_guide_code\n",
    "alt_guide = leads[leads.guide_code != leads.Initial_guide_code]\n",
    "alt_guide['id'].nunique()"
   ]
  },
  {
   "cell_type": "markdown",
   "metadata": {},
   "source": [
    "\n",
    "Q3: The data team is creating an algorithm to detect leads with high probability of converting to sales. Which of the following is not a reasonable factor in their model? 1)Country of origin 2)Price of package 3)Anticipation to travel 4)Lead ID 5)Number of previous purchases\n",
    "Q4: which of the following would not provide useful insights about customers? 1)Average people count 2)Difference between recieved and departure dates 3)average country code 4)median trip duration 5)Top 10 countries of origin\n",
    "Q5: team wants to remove suppliers that get lots of leads but have to replaced frequently. Which guides was replaced by another the most times?\n",
    "Q6: How is the conversion rate from lead to sold of custom trips compared to standard trips?\n",
    "Q7: Considering the sales, which of the destination countries has the highest average price per day\n",
    "of trip?\n"
   ]
  },
  {
   "cell_type": "code",
   "execution_count": 12,
   "metadata": {},
   "outputs": [
    {
     "data": {
      "text/html": [
       "<div>\n",
       "<style scoped>\n",
       "    .dataframe tbody tr th:only-of-type {\n",
       "        vertical-align: middle;\n",
       "    }\n",
       "\n",
       "    .dataframe tbody tr th {\n",
       "        vertical-align: top;\n",
       "    }\n",
       "\n",
       "    .dataframe thead th {\n",
       "        text-align: right;\n",
       "    }\n",
       "</style>\n",
       "<table border=\"1\" class=\"dataframe\">\n",
       "  <thead>\n",
       "    <tr style=\"text-align: right;\">\n",
       "      <th></th>\n",
       "      <th>guide_code</th>\n",
       "      <th>guide_fee</th>\n",
       "    </tr>\n",
       "  </thead>\n",
       "  <tbody>\n",
       "    <tr>\n",
       "      <th>count</th>\n",
       "      <td>706.000000</td>\n",
       "      <td>706.000000</td>\n",
       "    </tr>\n",
       "    <tr>\n",
       "      <th>mean</th>\n",
       "      <td>177.000000</td>\n",
       "      <td>10.339943</td>\n",
       "    </tr>\n",
       "    <tr>\n",
       "      <th>std</th>\n",
       "      <td>101.974159</td>\n",
       "      <td>1.515131</td>\n",
       "    </tr>\n",
       "    <tr>\n",
       "      <th>min</th>\n",
       "      <td>1.000000</td>\n",
       "      <td>10.000000</td>\n",
       "    </tr>\n",
       "    <tr>\n",
       "      <th>25%</th>\n",
       "      <td>89.000000</td>\n",
       "      <td>10.000000</td>\n",
       "    </tr>\n",
       "    <tr>\n",
       "      <th>50%</th>\n",
       "      <td>177.000000</td>\n",
       "      <td>10.000000</td>\n",
       "    </tr>\n",
       "    <tr>\n",
       "      <th>75%</th>\n",
       "      <td>265.000000</td>\n",
       "      <td>10.000000</td>\n",
       "    </tr>\n",
       "    <tr>\n",
       "      <th>max</th>\n",
       "      <td>353.000000</td>\n",
       "      <td>20.000000</td>\n",
       "    </tr>\n",
       "  </tbody>\n",
       "</table>\n",
       "</div>"
      ],
      "text/plain": [
       "       guide_code   guide_fee\n",
       "count  706.000000  706.000000\n",
       "mean   177.000000   10.339943\n",
       "std    101.974159    1.515131\n",
       "min      1.000000   10.000000\n",
       "25%     89.000000   10.000000\n",
       "50%    177.000000   10.000000\n",
       "75%    265.000000   10.000000\n",
       "max    353.000000   20.000000"
      ]
     },
     "execution_count": 12,
     "metadata": {},
     "output_type": "execute_result"
    }
   ],
   "source": [
    "# Summaries\n",
    "suppliers.describe()"
   ]
  },
  {
   "cell_type": "code",
   "execution_count": 13,
   "metadata": {},
   "outputs": [
    {
     "data": {
      "text/plain": [
       "array(['Changed plans', 'Changed plans / Out of season',\n",
       "       'Too last minute request / Out of season',\n",
       "       'Weather conditions / Too early to book / Time response from guide',\n",
       "       'Pending - Form not filled', nan,\n",
       "       'No available guide / Time response from guide',\n",
       "       'Client do not Understand the process', 'Contacted guide directly',\n",
       "       'No available guide', 'Time response from guide', 'No open group',\n",
       "       'Not looking for a guide', 'Other', 'Out of season', 'Postponed',\n",
       "       'Too early to book', 'Too last minute request',\n",
       "       'Weather conditions', 'Went to competition'], dtype=object)"
      ]
     },
     "execution_count": 13,
     "metadata": {},
     "output_type": "execute_result"
    }
   ],
   "source": [
    "leads.cancellation_reason.unique()"
   ]
  },
  {
   "cell_type": "code",
   "execution_count": 14,
   "metadata": {},
   "outputs": [
    {
     "data": {
      "text/plain": [
       "Organic         642\n",
       "Unknown         135\n",
       "Referral         69\n",
       "Paid             45\n",
       "web              18\n",
       "Social Media      4\n",
       "manual            3\n",
       "Returning         2\n",
       "Direct            1\n",
       "Name: source, dtype: int64"
      ]
     },
     "execution_count": 14,
     "metadata": {},
     "output_type": "execute_result"
    }
   ],
   "source": [
    "# To see a list of unique values and how often they occur in the dataset, we can use the value_counts() method:\n",
    "leads.source.value_counts()"
   ]
  },
  {
   "cell_type": "markdown",
   "metadata": {},
   "source": [
    "## Maps\n",
    "A map is a term, for a function that takes one set of values and \"maps\" them to another set of values."
   ]
  },
  {
   "cell_type": "code",
   "execution_count": 17,
   "metadata": {},
   "outputs": [
    {
     "data": {
      "text/plain": [
       "duration\n",
       "1.0     266\n",
       "2.0     120\n",
       "3.0     142\n",
       "       ... \n",
       "29.0      1\n",
       "30.0      2\n",
       "35.0      1\n",
       "Name: duration, Length: 26, dtype: int64"
      ]
     },
     "execution_count": 17,
     "metadata": {},
     "output_type": "execute_result"
    }
   ],
   "source": [
    "# Grouping & Sorting\n",
    "pd.set_option(\"display.max_rows\", 7)\n",
    "leads.groupby('duration').duration.count()"
   ]
  },
  {
   "cell_type": "code",
   "execution_count": 20,
   "metadata": {},
   "outputs": [
    {
     "data": {
      "text/plain": [
       "duration\n",
       "1.0           0.05\n",
       "2.0              0\n",
       "3.0            100\n",
       "           ...    \n",
       "29.0    to confirm\n",
       "30.0          2000\n",
       "35.0        3999.5\n",
       "Name: base_price_local_currency, Length: 26, dtype: object"
      ]
     },
     "execution_count": 20,
     "metadata": {},
     "output_type": "execute_result"
    }
   ],
   "source": [
    "leads.groupby('duration').base_price_local_currency.min()"
   ]
  },
  {
   "cell_type": "code",
   "execution_count": 23,
   "metadata": {},
   "outputs": [
    {
     "data": {
      "text/html": [
       "<div>\n",
       "<style scoped>\n",
       "    .dataframe tbody tr th:only-of-type {\n",
       "        vertical-align: middle;\n",
       "    }\n",
       "\n",
       "    .dataframe tbody tr th {\n",
       "        vertical-align: top;\n",
       "    }\n",
       "\n",
       "    .dataframe thead th {\n",
       "        text-align: right;\n",
       "    }\n",
       "</style>\n",
       "<table border=\"1\" class=\"dataframe\">\n",
       "  <thead>\n",
       "    <tr style=\"text-align: right;\">\n",
       "      <th></th>\n",
       "      <th>min</th>\n",
       "      <th>max</th>\n",
       "      <th>len</th>\n",
       "    </tr>\n",
       "    <tr>\n",
       "      <th>Country of Origin</th>\n",
       "      <th></th>\n",
       "      <th></th>\n",
       "      <th></th>\n",
       "    </tr>\n",
       "  </thead>\n",
       "  <tbody>\n",
       "    <tr>\n",
       "      <th>Argentina</th>\n",
       "      <td>300</td>\n",
       "      <td>to confirm</td>\n",
       "      <td>3</td>\n",
       "    </tr>\n",
       "    <tr>\n",
       "      <th>Aruba</th>\n",
       "      <td>1200</td>\n",
       "      <td>1200</td>\n",
       "      <td>1</td>\n",
       "    </tr>\n",
       "    <tr>\n",
       "      <th>Australia</th>\n",
       "      <td>100000</td>\n",
       "      <td>to confirm</td>\n",
       "      <td>44</td>\n",
       "    </tr>\n",
       "    <tr>\n",
       "      <th>...</th>\n",
       "      <td>...</td>\n",
       "      <td>...</td>\n",
       "      <td>...</td>\n",
       "    </tr>\n",
       "    <tr>\n",
       "      <th>United Kingdom</th>\n",
       "      <td>100</td>\n",
       "      <td>to confirm</td>\n",
       "      <td>103</td>\n",
       "    </tr>\n",
       "    <tr>\n",
       "      <th>United States</th>\n",
       "      <td>0</td>\n",
       "      <td>to confirm</td>\n",
       "      <td>232</td>\n",
       "    </tr>\n",
       "    <tr>\n",
       "      <th>Viet Nam</th>\n",
       "      <td>1950</td>\n",
       "      <td>to confirm</td>\n",
       "      <td>4</td>\n",
       "    </tr>\n",
       "  </tbody>\n",
       "</table>\n",
       "<p>73 rows × 3 columns</p>\n",
       "</div>"
      ],
      "text/plain": [
       "                      min         max  len\n",
       "Country of Origin                         \n",
       "Argentina             300  to confirm    3\n",
       "Aruba                1200        1200    1\n",
       "Australia          100000  to confirm   44\n",
       "...                   ...         ...  ...\n",
       "United Kingdom        100  to confirm  103\n",
       "United States           0  to confirm  232\n",
       "Viet Nam             1950  to confirm    4\n",
       "\n",
       "[73 rows x 3 columns]"
      ]
     },
     "execution_count": 23,
     "metadata": {},
     "output_type": "execute_result"
    }
   ],
   "source": [
    "leads.groupby(['Country of Origin']).base_price_local_currency.agg([min, max,len])"
   ]
  },
  {
   "cell_type": "code",
   "execution_count": 38,
   "metadata": {},
   "outputs": [
    {
     "data": {
      "text/html": [
       "<div>\n",
       "<style scoped>\n",
       "    .dataframe tbody tr th:only-of-type {\n",
       "        vertical-align: middle;\n",
       "    }\n",
       "\n",
       "    .dataframe tbody tr th {\n",
       "        vertical-align: top;\n",
       "    }\n",
       "\n",
       "    .dataframe thead th {\n",
       "        text-align: right;\n",
       "    }\n",
       "</style>\n",
       "<table border=\"1\" class=\"dataframe\">\n",
       "  <thead>\n",
       "    <tr style=\"text-align: right;\">\n",
       "      <th></th>\n",
       "      <th>id</th>\n",
       "      <th>administrator</th>\n",
       "      <th>Initial_guide_code</th>\n",
       "      <th>trip_code</th>\n",
       "      <th>duration</th>\n",
       "      <th>destination_country</th>\n",
       "      <th>exchange_rate</th>\n",
       "    </tr>\n",
       "    <tr>\n",
       "      <th>guide_code</th>\n",
       "      <th></th>\n",
       "      <th></th>\n",
       "      <th></th>\n",
       "      <th></th>\n",
       "      <th></th>\n",
       "      <th></th>\n",
       "      <th></th>\n",
       "    </tr>\n",
       "  </thead>\n",
       "  <tbody>\n",
       "    <tr>\n",
       "      <th>1</th>\n",
       "      <td>20720.65</td>\n",
       "      <td>NaN</td>\n",
       "      <td>128.75</td>\n",
       "      <td>232.235294</td>\n",
       "      <td>2.15</td>\n",
       "      <td>142.0</td>\n",
       "      <td>0.879</td>\n",
       "    </tr>\n",
       "    <tr>\n",
       "      <th>2</th>\n",
       "      <td>20493.00</td>\n",
       "      <td>NaN</td>\n",
       "      <td>2.00</td>\n",
       "      <td>424.000000</td>\n",
       "      <td>5.00</td>\n",
       "      <td>232.0</td>\n",
       "      <td>0.879</td>\n",
       "    </tr>\n",
       "    <tr>\n",
       "      <th>3</th>\n",
       "      <td>21037.00</td>\n",
       "      <td>NaN</td>\n",
       "      <td>3.00</td>\n",
       "      <td>1.000000</td>\n",
       "      <td>1.00</td>\n",
       "      <td>74.0</td>\n",
       "      <td>1.000</td>\n",
       "    </tr>\n",
       "    <tr>\n",
       "      <th>...</th>\n",
       "      <td>...</td>\n",
       "      <td>...</td>\n",
       "      <td>...</td>\n",
       "      <td>...</td>\n",
       "      <td>...</td>\n",
       "      <td>...</td>\n",
       "      <td>...</td>\n",
       "    </tr>\n",
       "    <tr>\n",
       "      <th>352</th>\n",
       "      <td>21237.50</td>\n",
       "      <td>NaN</td>\n",
       "      <td>192.00</td>\n",
       "      <td>164.000000</td>\n",
       "      <td>3.50</td>\n",
       "      <td>33.0</td>\n",
       "      <td>1.000</td>\n",
       "    </tr>\n",
       "    <tr>\n",
       "      <th>353</th>\n",
       "      <td>20467.00</td>\n",
       "      <td>NaN</td>\n",
       "      <td>353.00</td>\n",
       "      <td>585.000000</td>\n",
       "      <td>NaN</td>\n",
       "      <td>177.0</td>\n",
       "      <td>1.000</td>\n",
       "    </tr>\n",
       "    <tr>\n",
       "      <th>357</th>\n",
       "      <td>21046.00</td>\n",
       "      <td>NaN</td>\n",
       "      <td>357.00</td>\n",
       "      <td>504.000000</td>\n",
       "      <td>1.00</td>\n",
       "      <td>74.0</td>\n",
       "      <td>1.000</td>\n",
       "    </tr>\n",
       "  </tbody>\n",
       "</table>\n",
       "<p>354 rows × 7 columns</p>\n",
       "</div>"
      ],
      "text/plain": [
       "                  id  administrator  Initial_guide_code   trip_code  duration  \\\n",
       "guide_code                                                                      \n",
       "1           20720.65            NaN              128.75  232.235294      2.15   \n",
       "2           20493.00            NaN                2.00  424.000000      5.00   \n",
       "3           21037.00            NaN                3.00    1.000000      1.00   \n",
       "...              ...            ...                 ...         ...       ...   \n",
       "352         21237.50            NaN              192.00  164.000000      3.50   \n",
       "353         20467.00            NaN              353.00  585.000000       NaN   \n",
       "357         21046.00            NaN              357.00  504.000000      1.00   \n",
       "\n",
       "            destination_country  exchange_rate  \n",
       "guide_code                                      \n",
       "1                         142.0          0.879  \n",
       "2                         232.0          0.879  \n",
       "3                          74.0          1.000  \n",
       "...                         ...            ...  \n",
       "352                        33.0          1.000  \n",
       "353                       177.0          1.000  \n",
       "357                        74.0          1.000  \n",
       "\n",
       "[354 rows x 7 columns]"
      ]
     },
     "execution_count": 38,
     "metadata": {},
     "output_type": "execute_result"
    }
   ],
   "source": [
    "agency = leads.groupby('guide_code')\n",
    "agency.mean()"
   ]
  },
  {
   "cell_type": "code",
   "execution_count": 41,
   "metadata": {},
   "outputs": [
    {
     "data": {
      "text/plain": [
       "id                     20493.000\n",
       "administrator              0.000\n",
       "Initial_guide_code         2.000\n",
       "trip_code                424.000\n",
       "duration                   5.000\n",
       "destination_country      232.000\n",
       "exchange_rate              0.879\n",
       "Name: 2, dtype: float64"
      ]
     },
     "execution_count": 41,
     "metadata": {},
     "output_type": "execute_result"
    }
   ],
   "source": [
    "agency.sum().loc[2]"
   ]
  },
  {
   "cell_type": "code",
   "execution_count": null,
   "metadata": {},
   "outputs": [],
   "source": []
  }
 ],
 "metadata": {
  "interpreter": {
   "hash": "90d056296a45556521e929369b7ac4560abf6ad78fcd7dc94e39c36823bee644"
  },
  "kernelspec": {
   "display_name": "Python 3.8.8 ('base')",
   "language": "python",
   "name": "python3"
  },
  "language_info": {
   "codemirror_mode": {
    "name": "ipython",
    "version": 3
   },
   "file_extension": ".py",
   "mimetype": "text/x-python",
   "name": "python",
   "nbconvert_exporter": "python",
   "pygments_lexer": "ipython3",
   "version": "3.8.8"
  },
  "orig_nbformat": 4
 },
 "nbformat": 4,
 "nbformat_minor": 2
}
